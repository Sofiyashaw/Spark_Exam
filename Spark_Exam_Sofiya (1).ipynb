{
  "cells": [
    {
      "cell_type": "markdown",
      "source": [
        "# Big Data Hadoop & Spark Exam"
      ],
      "metadata": {
        "id": "Pez_2-fib_62"
      },
      "id": "Pez_2-fib_62"
    },
    {
      "cell_type": "markdown",
      "id": "aad0c4ae",
      "metadata": {
        "id": "aad0c4ae"
      },
      "source": [
        "## Import libraries"
      ]
    },
    {
      "cell_type": "code",
      "source": [
        "!pip install pyspark"
      ],
      "metadata": {
        "colab": {
          "base_uri": "https://localhost:8080/"
        },
        "id": "iDHcfrUQMDH3",
        "outputId": "80f60bf5-877a-459b-817b-2ca608b1420c"
      },
      "id": "iDHcfrUQMDH3",
      "execution_count": null,
      "outputs": [
        {
          "output_type": "stream",
          "name": "stdout",
          "text": [
            "Requirement already satisfied: pyspark in /usr/local/lib/python3.10/dist-packages (3.5.3)\n",
            "Requirement already satisfied: py4j==0.10.9.7 in /usr/local/lib/python3.10/dist-packages (from pyspark) (0.10.9.7)\n"
          ]
        }
      ]
    },
    {
      "cell_type": "code",
      "source": [
        "import pyspark\n",
        "from pyspark.ml import Pipeline\n",
        "from pyspark.ml import PipelineModel\n",
        "from pyspark.sql.functions import mean,col,split, col, regexp_extract, when, lit\n",
        "from pyspark.sql import SparkSession"
      ],
      "metadata": {
        "id": "s5oWF-htMIAG"
      },
      "id": "s5oWF-htMIAG",
      "execution_count": null,
      "outputs": []
    },
    {
      "cell_type": "code",
      "execution_count": null,
      "id": "af5a464b",
      "metadata": {
        "id": "af5a464b"
      },
      "outputs": [],
      "source": [
        "spark = SparkSession.builder.appName('Boston').getOrCreate()"
      ]
    },
    {
      "cell_type": "markdown",
      "source": [
        "# Q2) Read the data from hive table as a spark dataframe"
      ],
      "metadata": {
        "id": "yaKarpsNUGMO"
      },
      "id": "yaKarpsNUGMO"
    },
    {
      "cell_type": "code",
      "execution_count": null,
      "id": "e71cdd3b",
      "metadata": {
        "id": "e71cdd3b"
      },
      "outputs": [],
      "source": [
        "# Import data\n",
        "data = spark.read.csv(\"/content/boston.csv\", header=True, inferSchema=True)"
      ]
    },
    {
      "cell_type": "markdown",
      "source": [
        "## Exploratory Data Analysis"
      ],
      "metadata": {
        "id": "O4xNdYP3Vm7a"
      },
      "id": "O4xNdYP3Vm7a"
    },
    {
      "cell_type": "code",
      "execution_count": null,
      "id": "e566867e",
      "metadata": {
        "id": "e566867e",
        "colab": {
          "base_uri": "https://localhost:8080/"
        },
        "outputId": "ab3c0f9a-30aa-4d5f-bbe6-7c24fc961139"
      },
      "outputs": [
        {
          "output_type": "stream",
          "name": "stdout",
          "text": [
            "root\n",
            " |-- CRIM: double (nullable = true)\n",
            " |-- ZN: double (nullable = true)\n",
            " |-- INDUS: double (nullable = true)\n",
            " |-- CHAS: integer (nullable = true)\n",
            " |-- NOX: double (nullable = true)\n",
            " |-- RM: double (nullable = true)\n",
            " |-- AGE: double (nullable = true)\n",
            " |-- DIS: double (nullable = true)\n",
            " |-- RAD: integer (nullable = true)\n",
            " |-- TAX: integer (nullable = true)\n",
            " |-- PT: double (nullable = true)\n",
            " |-- B: double (nullable = true)\n",
            " |-- LSTAT: double (nullable = true)\n",
            " |-- MV: double (nullable = true)\n",
            "\n"
          ]
        }
      ],
      "source": [
        "data.printSchema()"
      ]
    },
    {
      "cell_type": "markdown",
      "source": [
        "### Inference\n",
        "* There are 14 columns\n",
        "* All the columns are numeric\n",
        "* The dependent variable is MV"
      ],
      "metadata": {
        "id": "0SL3qLUYYv6-"
      },
      "id": "0SL3qLUYYv6-"
    },
    {
      "cell_type": "code",
      "execution_count": null,
      "id": "f793af23",
      "metadata": {
        "id": "f793af23",
        "colab": {
          "base_uri": "https://localhost:8080/"
        },
        "outputId": "48dcfe8d-f78c-4df2-e3b7-7b648c326f82"
      },
      "outputs": [
        {
          "output_type": "execute_result",
          "data": {
            "text/plain": [
              "506"
            ]
          },
          "metadata": {},
          "execution_count": 267
        }
      ],
      "source": [
        "data.count()"
      ]
    },
    {
      "cell_type": "code",
      "execution_count": null,
      "id": "73158ee7",
      "metadata": {
        "colab": {
          "base_uri": "https://localhost:8080/"
        },
        "id": "73158ee7",
        "outputId": "57faa9f8-edcd-4fc3-9807-fdf1903b5597"
      },
      "outputs": [
        {
          "output_type": "stream",
          "name": "stdout",
          "text": [
            "+-------+------------------+------------------+------------------+------------------+------------------+------------------+------------------+------------------+-----------------+------------------+-----------------+------------------+------------------+-----------------+\n",
            "|summary|              CRIM|                ZN|             INDUS|              CHAS|               NOX|                RM|               AGE|               DIS|              RAD|               TAX|               PT|                 B|             LSTAT|               MV|\n",
            "+-------+------------------+------------------+------------------+------------------+------------------+------------------+------------------+------------------+-----------------+------------------+-----------------+------------------+------------------+-----------------+\n",
            "|  count|               506|               506|               506|               506|               506|               506|               506|               506|              506|               506|              506|               506|               506|              506|\n",
            "|   mean|3.6135235608162057|11.363636363636363|11.136778749531626|0.0691699604743083|0.5546950602312246|  6.28463438896641| 68.57490120115612|3.7950426960059325|9.549407114624506| 408.2371541501976|18.45553382776679|356.67402960597883|12.653063233922925|22.53280636250988|\n",
            "| stddev| 8.601545086715594| 23.32245299451514|  6.86035298095724|0.2539940413404101|0.1158776754570543|0.7026171549511354|28.148861532793276| 2.105710142043288|8.707259384239366|168.53711605495903|2.164945780039869| 91.29486340272308| 7.141061500195388|9.197104107945272|\n",
            "|    min|           0.00632|               0.0|       0.460000008|                 0|        0.38499999|       3.561000109|       2.900000095|       1.129600048|                1|               187|      12.60000038|       0.319999993|       1.730000019|              5.0|\n",
            "|    max|       88.97619629|             100.0|       27.73999977|                 1|       0.870999992|       8.779999733|             100.0|       12.12650013|               24|               711|             22.0|       396.8999939|       37.97000122|             50.0|\n",
            "+-------+------------------+------------------+------------------+------------------+------------------+------------------+------------------+------------------+-----------------+------------------+-----------------+------------------+------------------+-----------------+\n",
            "\n"
          ]
        }
      ],
      "source": [
        "data.describe().show()"
      ]
    },
    {
      "cell_type": "code",
      "execution_count": null,
      "id": "4f6a4d82",
      "metadata": {
        "id": "4f6a4d82",
        "colab": {
          "base_uri": "https://localhost:8080/"
        },
        "outputId": "316f6ce7-8e0c-4f11-c87f-34303ba7741a"
      },
      "outputs": [
        {
          "output_type": "execute_result",
          "data": {
            "text/plain": [
              "[('CRIM', 'double'),\n",
              " ('ZN', 'double'),\n",
              " ('INDUS', 'double'),\n",
              " ('CHAS', 'int'),\n",
              " ('NOX', 'double'),\n",
              " ('RM', 'double'),\n",
              " ('AGE', 'double'),\n",
              " ('DIS', 'double'),\n",
              " ('RAD', 'int'),\n",
              " ('TAX', 'int'),\n",
              " ('PT', 'double'),\n",
              " ('B', 'double'),\n",
              " ('LSTAT', 'double'),\n",
              " ('MV', 'double')]"
            ]
          },
          "metadata": {},
          "execution_count": 269
        }
      ],
      "source": [
        "data.dtypes"
      ]
    },
    {
      "cell_type": "markdown",
      "id": "38c3a37e",
      "metadata": {
        "id": "38c3a37e"
      },
      "source": [
        "## Missing value analysis"
      ]
    },
    {
      "cell_type": "code",
      "execution_count": null,
      "id": "9e3e2918",
      "metadata": {
        "id": "9e3e2918"
      },
      "outputs": [],
      "source": [
        "def null_value_count(df):\n",
        "    null_columns_counts = []\n",
        "    numRows = df.count()\n",
        "    for k in df.columns:\n",
        "        nullRows = df.where(col(k).isNull()).count()\n",
        "        if(nullRows > 0):\n",
        "            temp = k,nullRows\n",
        "            null_columns_counts.append(temp)\n",
        "    return(null_columns_counts)"
      ]
    },
    {
      "cell_type": "code",
      "execution_count": null,
      "id": "7bedf3cb",
      "metadata": {
        "id": "7bedf3cb",
        "colab": {
          "base_uri": "https://localhost:8080/"
        },
        "outputId": "38b19fbc-0459-40b5-89ff-27bebbff7215"
      },
      "outputs": [
        {
          "output_type": "execute_result",
          "data": {
            "text/plain": [
              "[]"
            ]
          },
          "metadata": {},
          "execution_count": 271
        }
      ],
      "source": [
        "null_value_count(data)"
      ]
    },
    {
      "cell_type": "markdown",
      "source": [
        "### Inference\n",
        "* There are no missing values in the dataset"
      ],
      "metadata": {
        "id": "0TJfT8NzYoUJ"
      },
      "id": "0TJfT8NzYoUJ"
    },
    {
      "cell_type": "markdown",
      "source": [
        "# Q3) Get the correlation between dependent and independent variables"
      ],
      "metadata": {
        "id": "fHYewN7EVwEW"
      },
      "id": "fHYewN7EVwEW"
    },
    {
      "cell_type": "code",
      "source": [
        "independent_var = ['CRIM','ZN','INDUS','CHAS','NOX','RM','AGE','DIS','RAD','TAX','PT','B','LSTAT']\n",
        "dependent_var = 'MV' # Changed dependent_var to a string instead of a list\n",
        "for col in independent_var:\n",
        "  correlation = data.stat.corr(col,dependent_var)\n",
        "  print(f\"Correlation between {col} and {dependent_var} is {correlation}\")"
      ],
      "metadata": {
        "colab": {
          "base_uri": "https://localhost:8080/"
        },
        "id": "GxOJ0VMpE8Y0",
        "outputId": "83f6dd64-76eb-4309-cefd-95697576fcce"
      },
      "id": "GxOJ0VMpE8Y0",
      "execution_count": null,
      "outputs": [
        {
          "output_type": "stream",
          "name": "stdout",
          "text": [
            "Correlation between CRIM and MV is -0.3883046116575089\n",
            "Correlation between ZN and MV is 0.360445344637529\n",
            "Correlation between INDUS and MV is -0.48372517128143366\n",
            "Correlation between CHAS and MV is 0.1752601777529185\n",
            "Correlation between NOX and MV is -0.4273207763683772\n",
            "Correlation between RM and MV is 0.6953599371272672\n",
            "Correlation between AGE and MV is -0.3769545671428867\n",
            "Correlation between DIS and MV is 0.24992873873512172\n",
            "Correlation between RAD and MV is -0.38162623156691683\n",
            "Correlation between TAX and MV is -0.46853593528654536\n",
            "Correlation between PT and MV is -0.5077867038116086\n",
            "Correlation between B and MV is 0.3334608226834165\n",
            "Correlation between LSTAT and MV is -0.7376627294671615\n"
          ]
        }
      ]
    },
    {
      "cell_type": "markdown",
      "source": [
        "### Inference\n",
        "* Values of correlation close to -1 and 1 have a strong correlation\n",
        "* RM has a correlation of 0.6953599371272672 and has a good correlation with MV"
      ],
      "metadata": {
        "id": "IWWUQjt3azGG"
      },
      "id": "IWWUQjt3azGG"
    },
    {
      "cell_type": "code",
      "execution_count": null,
      "id": "81d9e292",
      "metadata": {
        "id": "81d9e292",
        "colab": {
          "base_uri": "https://localhost:8080/"
        },
        "outputId": "e00a0ad6-8c3d-4166-aeca-82f8752a474e"
      },
      "outputs": [
        {
          "output_type": "stream",
          "name": "stdout",
          "text": [
            "root\n",
            " |-- CRIM: double (nullable = true)\n",
            " |-- ZN: double (nullable = true)\n",
            " |-- INDUS: double (nullable = true)\n",
            " |-- CHAS: integer (nullable = true)\n",
            " |-- NOX: double (nullable = true)\n",
            " |-- RM: double (nullable = true)\n",
            " |-- AGE: double (nullable = true)\n",
            " |-- DIS: double (nullable = true)\n",
            " |-- RAD: integer (nullable = true)\n",
            " |-- TAX: integer (nullable = true)\n",
            " |-- PT: double (nullable = true)\n",
            " |-- B: double (nullable = true)\n",
            " |-- LSTAT: double (nullable = true)\n",
            " |-- MV: double (nullable = true)\n",
            "\n"
          ]
        }
      ],
      "source": [
        "data.printSchema()"
      ]
    },
    {
      "cell_type": "code",
      "execution_count": null,
      "id": "05bd096e",
      "metadata": {
        "id": "05bd096e",
        "colab": {
          "base_uri": "https://localhost:8080/"
        },
        "outputId": "af87734a-9168-45fb-a06d-b0a2f4ce97e2"
      },
      "outputs": [
        {
          "output_type": "stream",
          "name": "stdout",
          "text": [
            "['CRIM', 'ZN', 'INDUS', 'CHAS', 'NOX', 'RM', 'AGE', 'DIS', 'RAD', 'TAX', 'PT', 'B', 'LSTAT']\n"
          ]
        }
      ],
      "source": [
        "numerical_cols = [item[0] for item in data.dtypes if item[1].startswith('int') | item[1].startswith('double')][:-1]\n",
        "print(numerical_cols)"
      ]
    },
    {
      "cell_type": "code",
      "execution_count": null,
      "id": "e22ddfc4",
      "metadata": {
        "id": "e22ddfc4",
        "colab": {
          "base_uri": "https://localhost:8080/"
        },
        "outputId": "906ba6d1-a7c9-4983-a356-ea564fa74302"
      },
      "outputs": [
        {
          "output_type": "stream",
          "name": "stdout",
          "text": [
            "13 numerical features\n"
          ]
        }
      ],
      "source": [
        "print(str(len(numerical_cols)) + ' numerical features')"
      ]
    },
    {
      "cell_type": "markdown",
      "id": "23c75b31",
      "metadata": {
        "id": "23c75b31"
      },
      "source": [
        "## Data Preparation\n",
        "* VectorAssembler"
      ]
    },
    {
      "cell_type": "code",
      "execution_count": null,
      "id": "df059d2a",
      "metadata": {
        "id": "df059d2a"
      },
      "outputs": [],
      "source": [
        "from pyspark.ml.feature import VectorAssembler\n",
        "\n",
        "stages = []\n",
        "\n",
        "# Iterate over the categorical columns\n",
        "for numerical_col in numerical_cols:\n",
        "    Vectassembler = VectorAssembler(inputCols=numerical_cols, outputCol=\"features\")\n",
        "\n",
        "# Add the VectorAssembler to stages\n",
        "stages += [Vectassembler]"
      ]
    },
    {
      "cell_type": "code",
      "execution_count": null,
      "id": "823a9d06",
      "metadata": {
        "id": "823a9d06"
      },
      "outputs": [],
      "source": [
        "import pandas as pd"
      ]
    },
    {
      "cell_type": "markdown",
      "source": [
        "## Pipeline"
      ],
      "metadata": {
        "id": "1K74jj4xcubP"
      },
      "id": "1K74jj4xcubP"
    },
    {
      "cell_type": "code",
      "execution_count": null,
      "id": "2bb04fa0",
      "metadata": {
        "id": "2bb04fa0",
        "colab": {
          "base_uri": "https://localhost:8080/",
          "height": 206
        },
        "outputId": "d05420b4-2d26-4fe6-ac74-f94c3f3a2a22"
      },
      "outputs": [
        {
          "output_type": "execute_result",
          "data": {
            "text/plain": [
              "                                            features     CRIM    ZN  INDUS  \\\n",
              "0  [0.00632, 18.0, 2.309999943, 0.0, 0.537999988,...  0.00632  18.0   2.31   \n",
              "1  [0.027310001, 0.0, 7.070000172, 0.0, 0.4690000...  0.02731   0.0   7.07   \n",
              "2  [0.02729, 0.0, 7.070000172, 0.0, 0.469000012, ...  0.02729   0.0   7.07   \n",
              "3  [0.032370001, 0.0, 2.180000067, 0.0, 0.4580000...  0.03237   0.0   2.18   \n",
              "4  [0.069049999, 0.0, 2.180000067, 0.0, 0.4580000...  0.06905   0.0   2.18   \n",
              "\n",
              "   CHAS    NOX     RM        AGE     DIS  RAD  TAX         PT           B  \\\n",
              "0     0  0.538  6.575  65.199997  4.0900    1  296  15.300000  396.899994   \n",
              "1     0  0.469  6.421  78.900002  4.9671    2  242  17.799999  396.899994   \n",
              "2     0  0.469  7.185  61.099998  4.9671    2  242  17.799999  392.829987   \n",
              "3     0  0.458  6.998  45.799999  6.0622    3  222  18.700001  394.630005   \n",
              "4     0  0.458  7.147  54.200001  6.0622    3  222  18.700001  396.899994   \n",
              "\n",
              "   LSTAT         MV  \n",
              "0   4.98  24.000000  \n",
              "1   9.14  21.600000  \n",
              "2   4.03  34.700001  \n",
              "3   2.94  33.400002  \n",
              "4   5.33  36.200001  "
            ],
            "text/html": [
              "\n",
              "  <div id=\"df-6bd95a39-bb0a-4254-95a0-4db5ffbb9a32\" class=\"colab-df-container\">\n",
              "    <div>\n",
              "<style scoped>\n",
              "    .dataframe tbody tr th:only-of-type {\n",
              "        vertical-align: middle;\n",
              "    }\n",
              "\n",
              "    .dataframe tbody tr th {\n",
              "        vertical-align: top;\n",
              "    }\n",
              "\n",
              "    .dataframe thead th {\n",
              "        text-align: right;\n",
              "    }\n",
              "</style>\n",
              "<table border=\"1\" class=\"dataframe\">\n",
              "  <thead>\n",
              "    <tr style=\"text-align: right;\">\n",
              "      <th></th>\n",
              "      <th>features</th>\n",
              "      <th>CRIM</th>\n",
              "      <th>ZN</th>\n",
              "      <th>INDUS</th>\n",
              "      <th>CHAS</th>\n",
              "      <th>NOX</th>\n",
              "      <th>RM</th>\n",
              "      <th>AGE</th>\n",
              "      <th>DIS</th>\n",
              "      <th>RAD</th>\n",
              "      <th>TAX</th>\n",
              "      <th>PT</th>\n",
              "      <th>B</th>\n",
              "      <th>LSTAT</th>\n",
              "      <th>MV</th>\n",
              "    </tr>\n",
              "  </thead>\n",
              "  <tbody>\n",
              "    <tr>\n",
              "      <th>0</th>\n",
              "      <td>[0.00632, 18.0, 2.309999943, 0.0, 0.537999988,...</td>\n",
              "      <td>0.00632</td>\n",
              "      <td>18.0</td>\n",
              "      <td>2.31</td>\n",
              "      <td>0</td>\n",
              "      <td>0.538</td>\n",
              "      <td>6.575</td>\n",
              "      <td>65.199997</td>\n",
              "      <td>4.0900</td>\n",
              "      <td>1</td>\n",
              "      <td>296</td>\n",
              "      <td>15.300000</td>\n",
              "      <td>396.899994</td>\n",
              "      <td>4.98</td>\n",
              "      <td>24.000000</td>\n",
              "    </tr>\n",
              "    <tr>\n",
              "      <th>1</th>\n",
              "      <td>[0.027310001, 0.0, 7.070000172, 0.0, 0.4690000...</td>\n",
              "      <td>0.02731</td>\n",
              "      <td>0.0</td>\n",
              "      <td>7.07</td>\n",
              "      <td>0</td>\n",
              "      <td>0.469</td>\n",
              "      <td>6.421</td>\n",
              "      <td>78.900002</td>\n",
              "      <td>4.9671</td>\n",
              "      <td>2</td>\n",
              "      <td>242</td>\n",
              "      <td>17.799999</td>\n",
              "      <td>396.899994</td>\n",
              "      <td>9.14</td>\n",
              "      <td>21.600000</td>\n",
              "    </tr>\n",
              "    <tr>\n",
              "      <th>2</th>\n",
              "      <td>[0.02729, 0.0, 7.070000172, 0.0, 0.469000012, ...</td>\n",
              "      <td>0.02729</td>\n",
              "      <td>0.0</td>\n",
              "      <td>7.07</td>\n",
              "      <td>0</td>\n",
              "      <td>0.469</td>\n",
              "      <td>7.185</td>\n",
              "      <td>61.099998</td>\n",
              "      <td>4.9671</td>\n",
              "      <td>2</td>\n",
              "      <td>242</td>\n",
              "      <td>17.799999</td>\n",
              "      <td>392.829987</td>\n",
              "      <td>4.03</td>\n",
              "      <td>34.700001</td>\n",
              "    </tr>\n",
              "    <tr>\n",
              "      <th>3</th>\n",
              "      <td>[0.032370001, 0.0, 2.180000067, 0.0, 0.4580000...</td>\n",
              "      <td>0.03237</td>\n",
              "      <td>0.0</td>\n",
              "      <td>2.18</td>\n",
              "      <td>0</td>\n",
              "      <td>0.458</td>\n",
              "      <td>6.998</td>\n",
              "      <td>45.799999</td>\n",
              "      <td>6.0622</td>\n",
              "      <td>3</td>\n",
              "      <td>222</td>\n",
              "      <td>18.700001</td>\n",
              "      <td>394.630005</td>\n",
              "      <td>2.94</td>\n",
              "      <td>33.400002</td>\n",
              "    </tr>\n",
              "    <tr>\n",
              "      <th>4</th>\n",
              "      <td>[0.069049999, 0.0, 2.180000067, 0.0, 0.4580000...</td>\n",
              "      <td>0.06905</td>\n",
              "      <td>0.0</td>\n",
              "      <td>2.18</td>\n",
              "      <td>0</td>\n",
              "      <td>0.458</td>\n",
              "      <td>7.147</td>\n",
              "      <td>54.200001</td>\n",
              "      <td>6.0622</td>\n",
              "      <td>3</td>\n",
              "      <td>222</td>\n",
              "      <td>18.700001</td>\n",
              "      <td>396.899994</td>\n",
              "      <td>5.33</td>\n",
              "      <td>36.200001</td>\n",
              "    </tr>\n",
              "  </tbody>\n",
              "</table>\n",
              "</div>\n",
              "    <div class=\"colab-df-buttons\">\n",
              "\n",
              "  <div class=\"colab-df-container\">\n",
              "    <button class=\"colab-df-convert\" onclick=\"convertToInteractive('df-6bd95a39-bb0a-4254-95a0-4db5ffbb9a32')\"\n",
              "            title=\"Convert this dataframe to an interactive table.\"\n",
              "            style=\"display:none;\">\n",
              "\n",
              "  <svg xmlns=\"http://www.w3.org/2000/svg\" height=\"24px\" viewBox=\"0 -960 960 960\">\n",
              "    <path d=\"M120-120v-720h720v720H120Zm60-500h600v-160H180v160Zm220 220h160v-160H400v160Zm0 220h160v-160H400v160ZM180-400h160v-160H180v160Zm440 0h160v-160H620v160ZM180-180h160v-160H180v160Zm440 0h160v-160H620v160Z\"/>\n",
              "  </svg>\n",
              "    </button>\n",
              "\n",
              "  <style>\n",
              "    .colab-df-container {\n",
              "      display:flex;\n",
              "      gap: 12px;\n",
              "    }\n",
              "\n",
              "    .colab-df-convert {\n",
              "      background-color: #E8F0FE;\n",
              "      border: none;\n",
              "      border-radius: 50%;\n",
              "      cursor: pointer;\n",
              "      display: none;\n",
              "      fill: #1967D2;\n",
              "      height: 32px;\n",
              "      padding: 0 0 0 0;\n",
              "      width: 32px;\n",
              "    }\n",
              "\n",
              "    .colab-df-convert:hover {\n",
              "      background-color: #E2EBFA;\n",
              "      box-shadow: 0px 1px 2px rgba(60, 64, 67, 0.3), 0px 1px 3px 1px rgba(60, 64, 67, 0.15);\n",
              "      fill: #174EA6;\n",
              "    }\n",
              "\n",
              "    .colab-df-buttons div {\n",
              "      margin-bottom: 4px;\n",
              "    }\n",
              "\n",
              "    [theme=dark] .colab-df-convert {\n",
              "      background-color: #3B4455;\n",
              "      fill: #D2E3FC;\n",
              "    }\n",
              "\n",
              "    [theme=dark] .colab-df-convert:hover {\n",
              "      background-color: #434B5C;\n",
              "      box-shadow: 0px 1px 3px 1px rgba(0, 0, 0, 0.15);\n",
              "      filter: drop-shadow(0px 1px 2px rgba(0, 0, 0, 0.3));\n",
              "      fill: #FFFFFF;\n",
              "    }\n",
              "  </style>\n",
              "\n",
              "    <script>\n",
              "      const buttonEl =\n",
              "        document.querySelector('#df-6bd95a39-bb0a-4254-95a0-4db5ffbb9a32 button.colab-df-convert');\n",
              "      buttonEl.style.display =\n",
              "        google.colab.kernel.accessAllowed ? 'block' : 'none';\n",
              "\n",
              "      async function convertToInteractive(key) {\n",
              "        const element = document.querySelector('#df-6bd95a39-bb0a-4254-95a0-4db5ffbb9a32');\n",
              "        const dataTable =\n",
              "          await google.colab.kernel.invokeFunction('convertToInteractive',\n",
              "                                                    [key], {});\n",
              "        if (!dataTable) return;\n",
              "\n",
              "        const docLinkHtml = 'Like what you see? Visit the ' +\n",
              "          '<a target=\"_blank\" href=https://colab.research.google.com/notebooks/data_table.ipynb>data table notebook</a>'\n",
              "          + ' to learn more about interactive tables.';\n",
              "        element.innerHTML = '';\n",
              "        dataTable['output_type'] = 'display_data';\n",
              "        await google.colab.output.renderOutput(dataTable, element);\n",
              "        const docLink = document.createElement('div');\n",
              "        docLink.innerHTML = docLinkHtml;\n",
              "        element.appendChild(docLink);\n",
              "      }\n",
              "    </script>\n",
              "  </div>\n",
              "\n",
              "\n",
              "<div id=\"df-ab373f0f-845a-4972-8cbe-e0cd1aecd481\">\n",
              "  <button class=\"colab-df-quickchart\" onclick=\"quickchart('df-ab373f0f-845a-4972-8cbe-e0cd1aecd481')\"\n",
              "            title=\"Suggest charts\"\n",
              "            style=\"display:none;\">\n",
              "\n",
              "<svg xmlns=\"http://www.w3.org/2000/svg\" height=\"24px\"viewBox=\"0 0 24 24\"\n",
              "     width=\"24px\">\n",
              "    <g>\n",
              "        <path d=\"M19 3H5c-1.1 0-2 .9-2 2v14c0 1.1.9 2 2 2h14c1.1 0 2-.9 2-2V5c0-1.1-.9-2-2-2zM9 17H7v-7h2v7zm4 0h-2V7h2v10zm4 0h-2v-4h2v4z\"/>\n",
              "    </g>\n",
              "</svg>\n",
              "  </button>\n",
              "\n",
              "<style>\n",
              "  .colab-df-quickchart {\n",
              "      --bg-color: #E8F0FE;\n",
              "      --fill-color: #1967D2;\n",
              "      --hover-bg-color: #E2EBFA;\n",
              "      --hover-fill-color: #174EA6;\n",
              "      --disabled-fill-color: #AAA;\n",
              "      --disabled-bg-color: #DDD;\n",
              "  }\n",
              "\n",
              "  [theme=dark] .colab-df-quickchart {\n",
              "      --bg-color: #3B4455;\n",
              "      --fill-color: #D2E3FC;\n",
              "      --hover-bg-color: #434B5C;\n",
              "      --hover-fill-color: #FFFFFF;\n",
              "      --disabled-bg-color: #3B4455;\n",
              "      --disabled-fill-color: #666;\n",
              "  }\n",
              "\n",
              "  .colab-df-quickchart {\n",
              "    background-color: var(--bg-color);\n",
              "    border: none;\n",
              "    border-radius: 50%;\n",
              "    cursor: pointer;\n",
              "    display: none;\n",
              "    fill: var(--fill-color);\n",
              "    height: 32px;\n",
              "    padding: 0;\n",
              "    width: 32px;\n",
              "  }\n",
              "\n",
              "  .colab-df-quickchart:hover {\n",
              "    background-color: var(--hover-bg-color);\n",
              "    box-shadow: 0 1px 2px rgba(60, 64, 67, 0.3), 0 1px 3px 1px rgba(60, 64, 67, 0.15);\n",
              "    fill: var(--button-hover-fill-color);\n",
              "  }\n",
              "\n",
              "  .colab-df-quickchart-complete:disabled,\n",
              "  .colab-df-quickchart-complete:disabled:hover {\n",
              "    background-color: var(--disabled-bg-color);\n",
              "    fill: var(--disabled-fill-color);\n",
              "    box-shadow: none;\n",
              "  }\n",
              "\n",
              "  .colab-df-spinner {\n",
              "    border: 2px solid var(--fill-color);\n",
              "    border-color: transparent;\n",
              "    border-bottom-color: var(--fill-color);\n",
              "    animation:\n",
              "      spin 1s steps(1) infinite;\n",
              "  }\n",
              "\n",
              "  @keyframes spin {\n",
              "    0% {\n",
              "      border-color: transparent;\n",
              "      border-bottom-color: var(--fill-color);\n",
              "      border-left-color: var(--fill-color);\n",
              "    }\n",
              "    20% {\n",
              "      border-color: transparent;\n",
              "      border-left-color: var(--fill-color);\n",
              "      border-top-color: var(--fill-color);\n",
              "    }\n",
              "    30% {\n",
              "      border-color: transparent;\n",
              "      border-left-color: var(--fill-color);\n",
              "      border-top-color: var(--fill-color);\n",
              "      border-right-color: var(--fill-color);\n",
              "    }\n",
              "    40% {\n",
              "      border-color: transparent;\n",
              "      border-right-color: var(--fill-color);\n",
              "      border-top-color: var(--fill-color);\n",
              "    }\n",
              "    60% {\n",
              "      border-color: transparent;\n",
              "      border-right-color: var(--fill-color);\n",
              "    }\n",
              "    80% {\n",
              "      border-color: transparent;\n",
              "      border-right-color: var(--fill-color);\n",
              "      border-bottom-color: var(--fill-color);\n",
              "    }\n",
              "    90% {\n",
              "      border-color: transparent;\n",
              "      border-bottom-color: var(--fill-color);\n",
              "    }\n",
              "  }\n",
              "</style>\n",
              "\n",
              "  <script>\n",
              "    async function quickchart(key) {\n",
              "      const quickchartButtonEl =\n",
              "        document.querySelector('#' + key + ' button');\n",
              "      quickchartButtonEl.disabled = true;  // To prevent multiple clicks.\n",
              "      quickchartButtonEl.classList.add('colab-df-spinner');\n",
              "      try {\n",
              "        const charts = await google.colab.kernel.invokeFunction(\n",
              "            'suggestCharts', [key], {});\n",
              "      } catch (error) {\n",
              "        console.error('Error during call to suggestCharts:', error);\n",
              "      }\n",
              "      quickchartButtonEl.classList.remove('colab-df-spinner');\n",
              "      quickchartButtonEl.classList.add('colab-df-quickchart-complete');\n",
              "    }\n",
              "    (() => {\n",
              "      let quickchartButtonEl =\n",
              "        document.querySelector('#df-ab373f0f-845a-4972-8cbe-e0cd1aecd481 button');\n",
              "      quickchartButtonEl.style.display =\n",
              "        google.colab.kernel.accessAllowed ? 'block' : 'none';\n",
              "    })();\n",
              "  </script>\n",
              "</div>\n",
              "\n",
              "    </div>\n",
              "  </div>\n"
            ],
            "application/vnd.google.colaboratory.intrinsic+json": {
              "type": "dataframe",
              "summary": "{\n  \"name\": \"pd\",\n  \"rows\": 5,\n  \"fields\": [\n    {\n      \"column\": \"features\",\n      \"properties\": {\n        \"dtype\": \"string\",\n        \"num_unique_values\": 5,\n        \"samples\": [\n          \"[0.027310001,0.0,7.070000172,0.0,0.469000012,6.421000004,78.90000153,4.967100143,2.0,242.0,17.79999924,396.8999939,9.140000343]\",\n          \"[0.069049999,0.0,2.180000067,0.0,0.458000004,7.146999836,54.20000076,6.062200069,3.0,222.0,18.70000076,396.8999939,5.329999924]\",\n          \"[0.02729,0.0,7.070000172,0.0,0.469000012,7.184999943,61.09999847,4.967100143,2.0,242.0,17.79999924,392.8299866,4.03000021]\"\n        ],\n        \"semantic_type\": \"\",\n        \"description\": \"\"\n      }\n    },\n    {\n      \"column\": \"CRIM\",\n      \"properties\": {\n        \"dtype\": \"number\",\n        \"std\": 0.022778206669555896,\n        \"min\": 0.00632,\n        \"max\": 0.069049999,\n        \"num_unique_values\": 5,\n        \"samples\": [\n          0.027310001,\n          0.069049999,\n          0.02729\n        ],\n        \"semantic_type\": \"\",\n        \"description\": \"\"\n      }\n    },\n    {\n      \"column\": \"ZN\",\n      \"properties\": {\n        \"dtype\": \"number\",\n        \"std\": 8.049844718999244,\n        \"min\": 0.0,\n        \"max\": 18.0,\n        \"num_unique_values\": 2,\n        \"samples\": [\n          0.0,\n          18.0\n        ],\n        \"semantic_type\": \"\",\n        \"description\": \"\"\n      }\n    },\n    {\n      \"column\": \"INDUS\",\n      \"properties\": {\n        \"dtype\": \"number\",\n        \"std\": 2.655159208063428,\n        \"min\": 2.180000067,\n        \"max\": 7.070000172,\n        \"num_unique_values\": 3,\n        \"samples\": [\n          2.309999943,\n          7.070000172\n        ],\n        \"semantic_type\": \"\",\n        \"description\": \"\"\n      }\n    },\n    {\n      \"column\": \"CHAS\",\n      \"properties\": {\n        \"dtype\": \"number\",\n        \"std\": 0,\n        \"min\": 0,\n        \"max\": 0,\n        \"num_unique_values\": 1,\n        \"samples\": [\n          0\n        ],\n        \"semantic_type\": \"\",\n        \"description\": \"\"\n      }\n    },\n    {\n      \"column\": \"NOX\",\n      \"properties\": {\n        \"dtype\": \"number\",\n        \"std\": 0.033768320183273796,\n        \"min\": 0.458000004,\n        \"max\": 0.537999988,\n        \"num_unique_values\": 3,\n        \"samples\": [\n          0.537999988\n        ],\n        \"semantic_type\": \"\",\n        \"description\": \"\"\n      }\n    },\n    {\n      \"column\": \"RM\",\n      \"properties\": {\n        \"dtype\": \"number\",\n        \"std\": 0.3467163166506856,\n        \"min\": 6.421000004,\n        \"max\": 7.184999943,\n        \"num_unique_values\": 5,\n        \"samples\": [\n          6.421000004\n        ],\n        \"semantic_type\": \"\",\n        \"description\": \"\"\n      }\n    },\n    {\n      \"column\": \"AGE\",\n      \"properties\": {\n        \"dtype\": \"number\",\n        \"std\": 12.402943620971728,\n        \"min\": 45.79999924,\n        \"max\": 78.90000153,\n        \"num_unique_values\": 5,\n        \"samples\": [\n          78.90000153\n        ],\n        \"semantic_type\": \"\",\n        \"description\": \"\"\n      }\n    },\n    {\n      \"column\": \"DIS\",\n      \"properties\": {\n        \"dtype\": \"number\",\n        \"std\": 0.8400812220838423,\n        \"min\": 4.090000153,\n        \"max\": 6.062200069,\n        \"num_unique_values\": 3,\n        \"samples\": [\n          4.090000153\n        ],\n        \"semantic_type\": \"\",\n        \"description\": \"\"\n      }\n    },\n    {\n      \"column\": \"RAD\",\n      \"properties\": {\n        \"dtype\": \"number\",\n        \"std\": 0,\n        \"min\": 1,\n        \"max\": 3,\n        \"num_unique_values\": 3,\n        \"samples\": [\n          1\n        ],\n        \"semantic_type\": \"\",\n        \"description\": \"\"\n      }\n    },\n    {\n      \"column\": \"TAX\",\n      \"properties\": {\n        \"dtype\": \"number\",\n        \"std\": 30,\n        \"min\": 222,\n        \"max\": 296,\n        \"num_unique_values\": 3,\n        \"samples\": [\n          296\n        ],\n        \"semantic_type\": \"\",\n        \"description\": \"\"\n      }\n    },\n    {\n      \"column\": \"PT\",\n      \"properties\": {\n        \"dtype\": \"number\",\n        \"std\": 1.393915513867532,\n        \"min\": 15.30000019,\n        \"max\": 18.70000076,\n        \"num_unique_values\": 3,\n        \"samples\": [\n          15.30000019\n        ],\n        \"semantic_type\": \"\",\n        \"description\": \"\"\n      }\n    },\n    {\n      \"column\": \"B\",\n      \"properties\": {\n        \"dtype\": \"number\",\n        \"std\": 1.8492362521708665,\n        \"min\": 392.8299866,\n        \"max\": 396.8999939,\n        \"num_unique_values\": 3,\n        \"samples\": [\n          396.8999939\n        ],\n        \"semantic_type\": \"\",\n        \"description\": \"\"\n      }\n    },\n    {\n      \"column\": \"LSTAT\",\n      \"properties\": {\n        \"dtype\": \"number\",\n        \"std\": 2.3468128298170754,\n        \"min\": 2.940000057,\n        \"max\": 9.140000343,\n        \"num_unique_values\": 5,\n        \"samples\": [\n          9.140000343\n        ],\n        \"semantic_type\": \"\",\n        \"description\": \"\"\n      }\n    },\n    {\n      \"column\": \"MV\",\n      \"properties\": {\n        \"dtype\": \"number\",\n        \"std\": 6.682963802183902,\n        \"min\": 21.60000038,\n        \"max\": 36.20000076,\n        \"num_unique_values\": 5,\n        \"samples\": [\n          21.60000038\n        ],\n        \"semantic_type\": \"\",\n        \"description\": \"\"\n      }\n    }\n  ]\n}"
            }
          },
          "metadata": {},
          "execution_count": 279
        }
      ],
      "source": [
        "from pyspark.ml import Pipeline\n",
        "cols = data.columns\n",
        "pipeline = Pipeline(stages = stages)\n",
        "pipelineModel = pipeline.fit(data)\n",
        "data = pipelineModel.transform(data)\n",
        "selectedCols = ['features']+cols\n",
        "data = data.select(selectedCols)\n",
        "pd.DataFrame(data.take(5), columns=data.columns)\n"
      ]
    },
    {
      "cell_type": "code",
      "execution_count": null,
      "id": "ad1d9d30",
      "metadata": {
        "id": "ad1d9d30",
        "colab": {
          "base_uri": "https://localhost:8080/"
        },
        "outputId": "9b456163-ad5d-4820-c0c8-911e56f8c288"
      },
      "outputs": [
        {
          "output_type": "stream",
          "name": "stdout",
          "text": [
            "+--------------------+-----------+----+-----------+----+-----------+-----------+-----------+-----------+---+---+-----------+-----------+-----------+-----------+\n",
            "|            features|       CRIM|  ZN|      INDUS|CHAS|        NOX|         RM|        AGE|        DIS|RAD|TAX|         PT|          B|      LSTAT|         MV|\n",
            "+--------------------+-----------+----+-----------+----+-----------+-----------+-----------+-----------+---+---+-----------+-----------+-----------+-----------+\n",
            "|[0.00632,18.0,2.3...|    0.00632|18.0|2.309999943|   0|0.537999988|6.574999809|65.19999695|4.090000153|  1|296|15.30000019|396.8999939|4.980000019|       24.0|\n",
            "|[0.027310001,0.0,...|0.027310001| 0.0|7.070000172|   0|0.469000012|6.421000004|78.90000153|4.967100143|  2|242|17.79999924|396.8999939|9.140000343|21.60000038|\n",
            "|[0.02729,0.0,7.07...|    0.02729| 0.0|7.070000172|   0|0.469000012|7.184999943|61.09999847|4.967100143|  2|242|17.79999924|392.8299866| 4.03000021|34.70000076|\n",
            "|[0.032370001,0.0,...|0.032370001| 0.0|2.180000067|   0|0.458000004|6.998000145|45.79999924|6.062200069|  3|222|18.70000076|394.6300049|2.940000057|33.40000153|\n",
            "|[0.069049999,0.0,...|0.069049999| 0.0|2.180000067|   0|0.458000004|7.146999836|54.20000076|6.062200069|  3|222|18.70000076|396.8999939|5.329999924|36.20000076|\n",
            "|[0.029850001,0.0,...|0.029850001| 0.0|2.180000067|   0|0.458000004|6.429999828|58.70000076|6.062200069|  3|222|18.70000076|394.1199951|5.210000038|28.70000076|\n",
            "|[0.088289998,12.5...|0.088289998|12.5|7.869999886|   0|0.523999989|6.012000084|66.59999847|5.560500145|  5|311|15.19999981|395.6000061|12.43000031|22.89999962|\n",
            "|[0.144549996,12.5...|0.144549996|12.5|7.869999886|   0|0.523999989|6.171999931|96.09999847|5.950500011|  5|311|15.19999981|396.8999939|19.14999962|27.10000038|\n",
            "|[0.211239994,12.5...|0.211239994|12.5|7.869999886|   0|0.523999989|5.631000042|      100.0|6.082099915|  5|311|15.19999981|386.6300049|29.93000031|       16.5|\n",
            "|[0.170039997,12.5...|0.170039997|12.5|7.869999886|   0|0.523999989|6.004000187|85.90000153|6.592100143|  5|311|15.19999981|386.7099915|17.10000038|18.89999962|\n",
            "|[0.224889994,12.5...|0.224889994|12.5|7.869999886|   0|0.523999989|6.376999855|94.30000305|6.346700191|  5|311|15.19999981| 392.519989|20.45000076|       15.0|\n",
            "|[0.117470004,12.5...|0.117470004|12.5|7.869999886|   0|0.523999989|6.008999825|82.90000153|6.226699829|  5|311|15.19999981|396.8999939|13.27000046|18.89999962|\n",
            "|[0.093780003,12.5...|0.093780003|12.5|7.869999886|   0|0.523999989|5.888999939|       39.0|5.450900078|  5|311|15.19999981|      390.5|15.71000004|21.70000076|\n",
            "|[0.629760027,0.0,...|0.629760027| 0.0|8.140000343|   0|0.537999988|5.948999882|61.79999924|4.707499981|  4|307|       21.0|396.8999939|8.260000229|20.39999962|\n",
            "|[0.637960017,0.0,...|0.637960017| 0.0|8.140000343|   0|0.537999988|6.096000195|       84.5|4.461900234|  4|307|       21.0| 380.019989|10.26000023|18.20000076|\n",
            "|[0.627390027,0.0,...|0.627390027| 0.0|8.140000343|   0|0.537999988|5.834000111|       56.5|4.498600006|  4|307|       21.0|395.6199951|8.470000267|19.89999962|\n",
            "|[1.053930044,0.0,...|1.053930044| 0.0|8.140000343|   0|0.537999988|5.934999943|29.29999924|4.498600006|  4|307|       21.0|386.8500061|6.579999924|23.10000038|\n",
            "|[0.784200013,0.0,...|0.784200013| 0.0|8.140000343|   0|0.537999988|5.989999771|81.69999695|4.257900238|  4|307|       21.0|     386.75|14.67000008|       17.5|\n",
            "|[0.802709997,0.0,...|0.802709997| 0.0|8.140000343|   0|0.537999988|5.455999851|36.59999847|3.796499968|  4|307|       21.0|288.9899902|11.68999958|20.20000076|\n",
            "|[0.725799978,0.0,...|0.725799978| 0.0|8.140000343|   0|0.537999988|5.727000237|       69.5|3.796499968|  4|307|       21.0|390.9500122|11.27999973|18.20000076|\n",
            "+--------------------+-----------+----+-----------+----+-----------+-----------+-----------+-----------+---+---+-----------+-----------+-----------+-----------+\n",
            "only showing top 20 rows\n",
            "\n"
          ]
        }
      ],
      "source": [
        "data.show()"
      ]
    },
    {
      "cell_type": "code",
      "execution_count": null,
      "id": "8d935e99",
      "metadata": {
        "id": "8d935e99",
        "colab": {
          "base_uri": "https://localhost:8080/"
        },
        "outputId": "77d8575d-ca73-4eca-e48e-155a9f269035"
      },
      "outputs": [
        {
          "output_type": "stream",
          "name": "stdout",
          "text": [
            "+--------------------+-----------+\n",
            "|            features|         MV|\n",
            "+--------------------+-----------+\n",
            "|[0.00632,18.0,2.3...|       24.0|\n",
            "|[0.027310001,0.0,...|21.60000038|\n",
            "|[0.02729,0.0,7.07...|34.70000076|\n",
            "|[0.032370001,0.0,...|33.40000153|\n",
            "|[0.069049999,0.0,...|36.20000076|\n",
            "|[0.029850001,0.0,...|28.70000076|\n",
            "|[0.088289998,12.5...|22.89999962|\n",
            "|[0.144549996,12.5...|27.10000038|\n",
            "|[0.211239994,12.5...|       16.5|\n",
            "|[0.170039997,12.5...|18.89999962|\n",
            "|[0.224889994,12.5...|       15.0|\n",
            "|[0.117470004,12.5...|18.89999962|\n",
            "|[0.093780003,12.5...|21.70000076|\n",
            "|[0.629760027,0.0,...|20.39999962|\n",
            "|[0.637960017,0.0,...|18.20000076|\n",
            "|[0.627390027,0.0,...|19.89999962|\n",
            "|[1.053930044,0.0,...|23.10000038|\n",
            "|[0.784200013,0.0,...|       17.5|\n",
            "|[0.802709997,0.0,...|20.20000076|\n",
            "|[0.725799978,0.0,...|18.20000076|\n",
            "+--------------------+-----------+\n",
            "only showing top 20 rows\n",
            "\n"
          ]
        }
      ],
      "source": [
        "finalized_data = data.select(\"features\",\"MV\")\n",
        "finalized_data.show()"
      ]
    },
    {
      "cell_type": "markdown",
      "source": [
        "## Split the dataset into train and test"
      ],
      "metadata": {
        "id": "PNAo8AvDc1-H"
      },
      "id": "PNAo8AvDc1-H"
    },
    {
      "cell_type": "code",
      "execution_count": null,
      "id": "7a0f376f",
      "metadata": {
        "id": "7a0f376f"
      },
      "outputs": [],
      "source": [
        "train_dataset, test_dataset = finalized_data.randomSplit([0.8, 0.2])"
      ]
    },
    {
      "cell_type": "markdown",
      "source": [
        "# Q4) Build a linear regression model to predict the House price"
      ],
      "metadata": {
        "id": "0gTFdNQeV93G"
      },
      "id": "0gTFdNQeV93G"
    },
    {
      "cell_type": "code",
      "execution_count": null,
      "id": "8b77ea66",
      "metadata": {
        "id": "8b77ea66"
      },
      "outputs": [],
      "source": [
        "from pyspark.ml.regression import LinearRegression"
      ]
    },
    {
      "cell_type": "code",
      "execution_count": null,
      "id": "5fe82326",
      "metadata": {
        "id": "5fe82326"
      },
      "outputs": [],
      "source": [
        "MLR = LinearRegression(featuresCol=\"features\", labelCol=\"MV\")"
      ]
    },
    {
      "cell_type": "code",
      "execution_count": null,
      "id": "6e1a2092",
      "metadata": {
        "id": "6e1a2092"
      },
      "outputs": [],
      "source": [
        "model = MLR.fit(train_dataset)"
      ]
    },
    {
      "cell_type": "code",
      "execution_count": null,
      "id": "ddb12a07",
      "metadata": {
        "id": "ddb12a07"
      },
      "outputs": [],
      "source": [
        "pred = model.evaluate(test_dataset)"
      ]
    },
    {
      "cell_type": "code",
      "execution_count": null,
      "id": "f20aab35",
      "metadata": {
        "id": "f20aab35",
        "colab": {
          "base_uri": "https://localhost:8080/"
        },
        "outputId": "8bf03c47-8e43-4025-faa3-5720c8bd135c"
      },
      "outputs": [
        {
          "output_type": "stream",
          "name": "stdout",
          "text": [
            "+--------------------+-----------+------------------+\n",
            "|            features|         MV|        prediction|\n",
            "+--------------------+-----------+------------------+\n",
            "|[0.00906,90.0,2.9...|32.20000076| 31.56663165871838|\n",
            "|[0.01311,90.0,1.2...|35.40000153| 31.12965117518516|\n",
            "|[0.031500001,95.0...|34.90000153|30.211661949221018|\n",
            "|[0.03537,34.0,6.0...|       22.0|29.100248837142345|\n",
            "|[0.03932,0.0,3.41...|       22.0|27.463855407701097|\n",
            "|[0.04301,80.0,1.9...|18.20000076|14.431687400936987|\n",
            "|[0.04417,70.0,2.2...|24.79999924|30.950639991639516|\n",
            "|[0.04462,25.0,4.8...|23.89999962|26.994082788970115|\n",
            "|[0.046659999,80.0...|30.29999924| 32.82950856702982|\n",
            "|[0.05023,35.0,6.0...|17.10000038| 20.06270232905217|\n",
            "|[0.057799999,0.0,...|37.20000076| 32.90861757162588|\n",
            "|[0.057890002,12.5...|       22.0|21.291566519361613|\n",
            "|[0.06617,0.0,3.24...|19.29999924| 21.60857061053922|\n",
            "|[0.06724,0.0,3.24...|22.60000038|24.676634232860724|\n",
            "|[0.068599999,0.0,...|33.20000076| 32.33934825948499|\n",
            "|[0.068879999,0.0,...|36.20000076|27.778376315634812|\n",
            "|[0.075029999,33.0...|33.40000153|  35.5460776182266|\n",
            "|[0.078749999,45.0...|       32.0|33.606475505703415|\n",
            "|[0.079779997,40.0...|29.10000038| 30.25444419893766|\n",
            "|[0.082439996,30.0...|23.70000076| 28.58218478228684|\n",
            "+--------------------+-----------+------------------+\n",
            "only showing top 20 rows\n",
            "\n"
          ]
        }
      ],
      "source": [
        "pred.predictions.show()"
      ]
    },
    {
      "cell_type": "code",
      "execution_count": null,
      "id": "53529312",
      "metadata": {
        "id": "53529312",
        "colab": {
          "base_uri": "https://localhost:8080/"
        },
        "outputId": "b2055517-6dec-478e-96db-7f7ce587cb46"
      },
      "outputs": [
        {
          "output_type": "stream",
          "name": "stdout",
          "text": [
            "The coefficients of the model are : DenseVector([-0.1222, 0.0428, -0.0092, 3.175, -17.6575, 3.8324, -0.0007, -1.4478, 0.3228, -0.0111, -0.9684, 0.0091, -0.5118])\n"
          ]
        }
      ],
      "source": [
        "coefficient = model.coefficients\n",
        "print (\"The coefficients of the model are : %a\" %coefficient)"
      ]
    },
    {
      "cell_type": "code",
      "execution_count": null,
      "id": "f35f62d0",
      "metadata": {
        "id": "f35f62d0",
        "colab": {
          "base_uri": "https://localhost:8080/"
        },
        "outputId": "16435510-ddcf-4f1b-e754-a698146e16d9"
      },
      "outputs": [
        {
          "output_type": "stream",
          "name": "stdout",
          "text": [
            "The Intercept of the model is : 36.328940\n"
          ]
        }
      ],
      "source": [
        "intercept = model.intercept\n",
        "print (\"The Intercept of the model is : %f\" %intercept)"
      ]
    },
    {
      "cell_type": "markdown",
      "source": [
        "# Q5) Evaluate the Linear Regression model by getting RMSE and R-squared values"
      ],
      "metadata": {
        "id": "w_quEIyMUv0A"
      },
      "id": "w_quEIyMUv0A"
    },
    {
      "cell_type": "code",
      "execution_count": null,
      "id": "8a8a6bce",
      "metadata": {
        "id": "8a8a6bce",
        "colab": {
          "base_uri": "https://localhost:8080/"
        },
        "outputId": "6508d18e-9470-4855-fec5-ff6fd97b882e"
      },
      "outputs": [
        {
          "output_type": "stream",
          "name": "stdout",
          "text": [
            "r2: 0.817\n"
          ]
        }
      ],
      "source": [
        "from pyspark.ml.evaluation import RegressionEvaluator\n",
        "evaluation = RegressionEvaluator(labelCol=\"MV\", predictionCol=\"prediction\")\n",
        "r2 = evaluation.evaluate(pred.predictions, {evaluation.metricName: \"r2\"})\n",
        "print(\"r2: %.3f\" %r2)"
      ]
    },
    {
      "cell_type": "markdown",
      "source": [
        "## Inference\n",
        "* The r2 score of the model is 0.817"
      ],
      "metadata": {
        "id": "yjiEDrSmbDJC"
      },
      "id": "yjiEDrSmbDJC"
    },
    {
      "cell_type": "code",
      "source": [
        "# Root Mean Square Error\n",
        "rmse = evaluation.evaluate(pred.predictions, {evaluation.metricName: \"rmse\"})\n",
        "print(\"rmse: %.3f\" %rmse)\n",
        "# Mean Square Error\n",
        "mse = evaluation.evaluate(pred.predictions, {evaluation.metricName: \"mse\"})\n",
        "print(\"mse: %.3f\" %mse)"
      ],
      "metadata": {
        "colab": {
          "base_uri": "https://localhost:8080/"
        },
        "id": "1gNWjTsZUiyk",
        "outputId": "12ec882e-7e5c-4be6-acc0-f951b09a9e2e"
      },
      "id": "1gNWjTsZUiyk",
      "execution_count": null,
      "outputs": [
        {
          "output_type": "stream",
          "name": "stdout",
          "text": [
            "rmse: 3.520\n",
            "mse: 12.387\n"
          ]
        }
      ]
    },
    {
      "cell_type": "markdown",
      "source": [
        "## Inference\n",
        "* The root mean squaed error is 3.520\n",
        "* The mean squared error is 12.387"
      ],
      "metadata": {
        "id": "-Iks3hdsbKQS"
      },
      "id": "-Iks3hdsbKQS"
    }
  ],
  "metadata": {
    "kernelspec": {
      "display_name": "Python 3 (ipykernel)",
      "language": "python",
      "name": "python3"
    },
    "language_info": {
      "codemirror_mode": {
        "name": "ipython",
        "version": 3
      },
      "file_extension": ".py",
      "mimetype": "text/x-python",
      "name": "python",
      "nbconvert_exporter": "python",
      "pygments_lexer": "ipython3",
      "version": "3.9.13"
    },
    "colab": {
      "provenance": []
    }
  },
  "nbformat": 4,
  "nbformat_minor": 5
}